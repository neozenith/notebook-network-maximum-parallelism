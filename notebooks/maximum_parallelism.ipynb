{
 "cells": [
  {
   "cell_type": "markdown",
   "id": "918a8550-bbd1-438d-8d2c-96a357a45994",
   "metadata": {},
   "source": [
    "# Network Maximum Parallelism\n",
    "\n",
    "Experiment modelling maximum parallelism of executors given a DAG of tasks.\n",
    "\n",
    "This often pops up in computer science / data engineering.\n",
    "\n",
    "A DAG can represent a \"heap\" like structure of tasks that can pull the next most important task, respect minimal lineage requirements but allow parallel work to occur. You would have a pool of workers consuming tasks.\n",
    "\n",
    "The idea is:\n",
    "\n",
    "> ***How big of a pool do I need given the shape of the DAG?***\n",
    "\n",
    "This also shows up in project planning, \n",
    "\n",
    "> ***Given a Work Breakdown Structure, how many consultants would I need?***\n",
    "\n",
    "For simplicity we assume each task takes 1 unit of time, each worker is equivalent to each other and can process tasks consistently taking onl 1 unit of time.\n",
    "\n",
    "If we want to look at the [*Maximum Flow*](https://networkx.org/documentation/stable/reference/algorithms/generated/networkx.algorithms.flow.maximum_flow.html#networkx.algorithms.flow.maximum_flow) of the DAG as well, we will assume all edges have equal capacity of 1.\n",
    "\n",
    "# Example\n",
    "\n",
    "![](./assets/dag.png)\n",
    "\n",
    "![](./assets/topological.png)\n",
    "\n",
    "With the widest being `3`.\n",
    "\n",
    "## Install dependencies"
   ]
  },
  {
   "cell_type": "code",
   "execution_count": 1,
   "id": "faa9ded9-1d95-4769-996f-62a23aeb2b8e",
   "metadata": {},
   "outputs": [],
   "source": [
    "!pip install -U pip -qq"
   ]
  },
  {
   "cell_type": "code",
   "execution_count": 2,
   "id": "a944fcd9-331e-46b5-a1f3-63cd4f206980",
   "metadata": {},
   "outputs": [],
   "source": [
    "!pip install networkx ipycytoscape -qq"
   ]
  },
  {
   "cell_type": "code",
   "execution_count": 3,
   "id": "0f53e00a-147f-491c-8601-fd1f36258412",
   "metadata": {},
   "outputs": [],
   "source": [
    "# Need to use `master` instead of PyPI version since 'fcose' algorithm only available there and not published yet.\n",
    "# pip install https://github.com/plotly/dash-cytoscape/archive/master.zip"
   ]
  },
  {
   "cell_type": "markdown",
   "id": "2d2edba3-19bf-4fe8-a8e3-06fc18aed66a",
   "metadata": {},
   "source": [
    "## Google Colab Specific Code"
   ]
  },
  {
   "cell_type": "code",
   "execution_count": 4,
   "id": "3e080c63-da52-47da-a7ef-b393c68bf87f",
   "metadata": {},
   "outputs": [],
   "source": [
    "try:\n",
    "    from google.colab import output\n",
    "\n",
    "    output.enable_custom_widget_manager()\n",
    "except ModuleNotFoundError:\n",
    "    pass"
   ]
  },
  {
   "cell_type": "markdown",
   "id": "9a5d115b-90e0-4bfa-971e-4ccb1f791e67",
   "metadata": {},
   "source": [
    "## Generate a Random DAG and visualise it"
   ]
  },
  {
   "cell_type": "code",
   "execution_count": 5,
   "id": "fa83d03b-d752-4f66-9c2e-f160357a08fc",
   "metadata": {},
   "outputs": [],
   "source": [
    "import networkx as nx\n",
    "import random\n",
    "\n",
    "G = nx.gnp_random_graph(15, 0.5, directed=True)\n",
    "DAG = nx.DiGraph(\n",
    "    [(u, v, {\"capacity\": 1, \"weight\": 1}) for (u, v) in G.edges() if u < v]\n",
    ")"
   ]
  },
  {
   "cell_type": "markdown",
   "id": "2f4d82fb-7826-4a28-ba28-3bd6b8898991",
   "metadata": {},
   "source": [
    "### [Optional] Source and Sink Nodes for looking at Maximum Flow\n",
    "This next section finds all the roots nodes with no dependencies (*roots*) and all the nodes with no successors (*leaves*). Then we attach an extra node to each so there is a single *source* and *sink* to the DAG."
   ]
  },
  {
   "cell_type": "code",
   "execution_count": 6,
   "id": "2a7b4ee9-7624-4932-b0de-10fcbe764d43",
   "metadata": {},
   "outputs": [
    {
     "data": {
      "text/plain": [
       "([(0, {1: 1, 4: 1, 5: 1, 6: 1, 7: 1, 8: 1, 13: 1, 14: 1}),\n",
       "  (1, {2: 1, 9: 0, 12: 0}),\n",
       "  (4, {7: 0, 9: 0, 10: 0, 13: 1}),\n",
       "  (5, {9: 0, 10: 1, 12: 0}),\n",
       "  (6, {7: 0, 8: 0, 9: 0, 11: 0, 12: 0, 13: 1}),\n",
       "  (7, {8: 0, 10: 0, 11: 0, 13: 1}),\n",
       "  (8, {9: 0, 10: 0, 13: 1}),\n",
       "  (13, {'sink': 7}),\n",
       "  (14, {'sink': 1}),\n",
       "  (2, {3: 0, 10: 0, 11: 0, 13: 1}),\n",
       "  (9, {10: 0, 11: 0, 12: 0}),\n",
       "  (12, {13: 0}),\n",
       "  (3, {4: 0, 5: 0, 7: 0, 9: 0, 11: 0}),\n",
       "  (10, {13: 1}),\n",
       "  (11, {12: 0}),\n",
       "  ('source', {0: 8})],\n",
       " 8)"
      ]
     },
     "execution_count": 6,
     "metadata": {},
     "output_type": "execute_result"
    }
   ],
   "source": [
    "leaves = [n for n in DAG.nodes if len(list(DAG.successors(n))) == 0]\n",
    "roots = [n for n in DAG.nodes if len(list(DAG.predecessors(n))) == 0]\n",
    "DAG.add_nodes_from([\"source\", \"sink\"])\n",
    "DAG.add_edges_from([(\"source\", v, {\"tooltip\": 10_000}) for v in roots])\n",
    "DAG.add_edges_from([(u, \"sink\", {\"tooltip\": 10_000}) for u in leaves])\n",
    "\n",
    "for node in DAG.nodes():\n",
    "    DAG.nodes[node][\"label\"] = node\n",
    "\n",
    "\n",
    "from networkx.algorithms.flow import shortest_augmenting_path\n",
    "\n",
    "flow_value, flow_dict = nx.maximum_flow(\n",
    "    DAG.copy(), \"source\", \"sink\", flow_func=shortest_augmenting_path\n",
    ")\n",
    "[(k, v) for k, v in flow_dict.items() if len(v) > 0], flow_value"
   ]
  },
  {
   "cell_type": "code",
   "execution_count": 7,
   "id": "678e535c-9d74-4f2b-a9de-80ff331d551c",
   "metadata": {},
   "outputs": [
    {
     "data": {
      "application/vnd.jupyter.widget-view+json": {
       "model_id": "d967d0bbbd924e64ba3f34fa0a6dc5e0",
       "version_major": 2,
       "version_minor": 0
      },
      "text/plain": [
       "CytoscapeWidget(cytoscape_layout={'name': 'dagre'}, cytoscape_style=[{'selector': 'node', 'css': {'background-…"
      ]
     },
     "execution_count": 7,
     "metadata": {},
     "output_type": "execute_result"
    }
   ],
   "source": [
    "import ipycytoscape as cy\n",
    "\n",
    "cyDAG = cy.CytoscapeWidget()\n",
    "cyDAG.graph.add_graph_from_networkx(DAG, directed=True)\n",
    "cyDAG.set_layout(name=\"dagre\")\n",
    "cyDAG"
   ]
  },
  {
   "cell_type": "markdown",
   "id": "7e59a4f2-9241-4eb6-9207-726909c765ac",
   "metadata": {},
   "source": [
    "## Topological Sort\n",
    "\n",
    "Get each layer as though it was breadth first sorted.\n",
    "\n",
    "Find the widest layer."
   ]
  },
  {
   "cell_type": "code",
   "execution_count": 8,
   "id": "ba4f8c26-28a7-4620-bcf8-2f3ba8c9da6a",
   "metadata": {},
   "outputs": [
    {
     "name": "stdout",
     "output_type": "stream",
     "text": [
      "['source']\n",
      "[0]\n",
      "[1, 6, 14]\n",
      "[2]\n",
      "[3]\n",
      "[4, 5]\n",
      "[7]\n",
      "[8]\n",
      "[9]\n",
      "[10, 11]\n",
      "[12]\n",
      "[13]\n",
      "['sink']\n"
     ]
    }
   ],
   "source": [
    "import json\n",
    "\n",
    "gens = [sorted(generation) for generation in nx.topological_generations(DAG)]\n",
    "for gen in gens:\n",
    "    print(gen)"
   ]
  },
  {
   "cell_type": "code",
   "execution_count": 9,
   "id": "606bfa94-7291-43c6-ad1a-122ab5b3d26e",
   "metadata": {},
   "outputs": [
    {
     "data": {
      "text/plain": [
       "3"
      ]
     },
     "execution_count": 9,
     "metadata": {},
     "output_type": "execute_result"
    }
   ],
   "source": [
    "max([len(g) for g in gens])"
   ]
  },
  {
   "cell_type": "code",
   "execution_count": null,
   "id": "369228f9-7770-4a62-93d6-0c1050b980a5",
   "metadata": {},
   "outputs": [],
   "source": []
  },
  {
   "cell_type": "code",
   "execution_count": null,
   "id": "4aeb8908-397d-420b-9eda-cb8254da0336",
   "metadata": {},
   "outputs": [],
   "source": []
  }
 ],
 "metadata": {
  "kernelspec": {
   "display_name": "Python 3 (ipykernel)",
   "language": "python",
   "name": "python3"
  },
  "language_info": {
   "codemirror_mode": {
    "name": "ipython",
    "version": 3
   },
   "file_extension": ".py",
   "mimetype": "text/x-python",
   "name": "python",
   "nbconvert_exporter": "python",
   "pygments_lexer": "ipython3",
   "version": "3.10.13"
  }
 },
 "nbformat": 4,
 "nbformat_minor": 5
}
